{
 "cells": [
  {
   "cell_type": "markdown",
   "id": "b33f260b",
   "metadata": {},
   "source": [
    "#### To clean anaconda files see conda help commands jupyter notebook file"
   ]
  },
  {
   "cell_type": "markdown",
   "id": "a661c6c4",
   "metadata": {},
   "source": [
    "#### repository databases pacman commands"
   ]
  },
  {
   "cell_type": "code",
   "execution_count": null,
   "id": "3a64d215",
   "metadata": {},
   "outputs": [],
   "source": [
    "#check repository databases are uptodate\n",
    "sudo pacman -Sy\n",
    "\n",
    "#force refresh repository databases\n",
    "sudo pacman -Syy\n",
    "\n",
    "#check repository databases are uptodate, install package and update system\n",
    "sudo pacman -Syu \"package name\"\n",
    "\n",
    "\n",
    "\n",
    "#Remove a package only\n",
    "sudo pacman -R \"package name\"\n",
    "\n",
    "##Remove a package and dependencies\n",
    "sudo pacman -Rs \"package name\"\n",
    "\n",
    "#Remove a package,dependency and config files\n",
    "sudo pacman -Rns \"package name\"\n",
    "\n",
    "\n",
    "\n",
    "#query list of all installed packages, no need sudo\n",
    "pacman -Q\n",
    "\n",
    "#query explicitly installed, excluding dependencies\n",
    "pacman -Qe\n",
    "\n"
   ]
  },
  {
   "cell_type": "code",
   "execution_count": null,
   "id": "81c2c5b8",
   "metadata": {},
   "outputs": [],
   "source": [
    "Install a ‘local’ package that is not from a remote repository:\n",
    "\n",
    "pacman -U _/path/to/package/package_name-version.pkg.tar.xz"
   ]
  },
  {
   "cell_type": "code",
   "execution_count": null,
   "id": "f43b6c3e",
   "metadata": {},
   "outputs": [],
   "source": [
    "Install a ‘remote’ package, not contained in an official repository:\n",
    "pacman -U http://www.example.com/repo/example.pkg.tar.xz\n"
   ]
  },
  {
   "cell_type": "markdown",
   "id": "ed9142da",
   "metadata": {},
   "source": [
    "#### Cleanup manjaro packages and freeup space pacman commands"
   ]
  },
  {
   "cell_type": "code",
   "execution_count": null,
   "id": "96f86396",
   "metadata": {},
   "outputs": [],
   "source": [
    "#List packages\n",
    "ls /var/cache/pacman/pkg/ | less \n",
    "\n",
    "#Remove all pkg except those installed\n",
    "sudo pacman -Sc\n",
    "\n",
    "\n",
    "#Orphan packages are those marked as Installed as a dependency for another package, \n",
    "#but which are missing the parent package that depended on them. \n",
    "\n",
    "#List unused (orphans)\n",
    "sudo pacman -Qtdq\n",
    "\n",
    "#Remove unused (orphans)\n",
    "sudo pacman -Rns $(pacman -Qtdq)\n",
    "\n",
    "#Clean home cache\n",
    "cache is located in ~/.cache\n",
    "\n",
    "#Config Files\n",
    "stored in ~/.config/\n",
    "\n"
   ]
  }
 ],
 "metadata": {
  "kernelspec": {
   "display_name": "Python 3.8.8 ('base')",
   "language": "python",
   "name": "python3"
  },
  "language_info": {
   "codemirror_mode": {
    "name": "ipython",
    "version": 3
   },
   "file_extension": ".py",
   "mimetype": "text/x-python",
   "name": "python",
   "nbconvert_exporter": "python",
   "pygments_lexer": "ipython3",
   "version": "3.9.12"
  },
  "vscode": {
   "interpreter": {
    "hash": "27c8121e2e9a873957049f1ec24d13aeed5282d43519d2a4b5ef910eaaa46b78"
   }
  }
 },
 "nbformat": 4,
 "nbformat_minor": 5
}
