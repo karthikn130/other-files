{
 "cells": [
  {
   "cell_type": "markdown",
   "id": "b33f260b",
   "metadata": {},
   "source": [
    "#### To clean anaconda files see conda help commands jupyter notebook file"
   ]
  },
  {
   "cell_type": "markdown",
   "id": "a661c6c4",
   "metadata": {},
   "source": [
    "#### repository databases pacman commands"
   ]
  },
  {
   "cell_type": "code",
   "execution_count": null,
   "id": "3a64d215",
   "metadata": {},
   "outputs": [],
   "source": [
    "#check repository databases are uptodate\n",
    "sudo pacman -Sy\n",
    "\n",
    "#force refresh repository databases\n",
    "sudo pacman -Syy\n",
    "\n",
    "#check repository databases are uptodate, install package and update system\n",
    "sudo pacman -Syu \"package name\""
   ]
  },
  {
   "cell_type": "code",
   "execution_count": null,
   "id": "140bc019",
   "metadata": {},
   "outputs": [],
   "source": [
    "sudo pacman -S -h\n",
    "usage:  pacman {-S --sync} [options] [package(s)]\n",
    "options:\n",
    "  -b, --dbpath <path>  set an alternate database location\n",
    "  -c, --clean          remove old packages from cache directory (-cc for all)\n",
    "  -d, --nodeps         skip dependency version checks (-dd to skip all checks)\n",
    "  -g, --groups         view all members of a package group\n",
    "                       (-gg to view all groups and members)\n",
    "  -i, --info           view package information (-ii for extended information)\n",
    "  -l, --list <repo>    view a list of packages in a repo\n",
    "  -p, --print          print the targets instead of performing the operation\n",
    "  -q, --quiet          show less information for query and search\n",
    "  -r, --root <path>    set an alternate installation root\n",
    "  -s, --search <regex> search remote repositories for matching strings\n",
    "  -u, --sysupgrade     upgrade installed packages (-uu enables downgrades)\n",
    "  -v, --verbose        be verbose\n",
    "  -w, --downloadonly   download packages but do not install/upgrade anything\n",
    "  -y, --refresh        download fresh package databases from the server\n",
    "                       (-yy to force a refresh even if up to date)\n"
   ]
  },
  {
   "cell_type": "code",
   "execution_count": null,
   "id": "81c2c5b8",
   "metadata": {},
   "outputs": [],
   "source": [
    "Install a ‘local’ package that is not from a remote repository:\n",
    "\n",
    "pacman -U _/path/to/package/package_name-version.pkg.tar.xz_"
   ]
  },
  {
   "cell_type": "code",
   "execution_count": null,
   "id": "f43b6c3e",
   "metadata": {},
   "outputs": [],
   "source": [
    "Install a ‘remote’ package, not contained in an official repository:\n",
    "pacman -U http://www.example.com/repo/example.pkg.tar.xz\n"
   ]
  },
  {
   "cell_type": "markdown",
   "id": "ed9142da",
   "metadata": {},
   "source": [
    "#### Cleanup manjaro packages and freeup space pacman commands"
   ]
  },
  {
   "cell_type": "code",
   "execution_count": null,
   "id": "96f86396",
   "metadata": {},
   "outputs": [],
   "source": [
    "#List packages\n",
    "ls /var/cache/pacman/pkg/ | less \n",
    "\n",
    "#Remove all pkg except those installed\n",
    "sudo pacman -Sc\n",
    "\n",
    "#List unused (orphans)\n",
    "#Orphan packages are those marked as Installed as a dependency for another package, \n",
    "#but which are missing the parent package that depended on them. \n",
    "sudo pacman -Qtdq\n",
    "\n",
    "#Remove unused (orphans)\n",
    "sudo pacman -Rns $(pacman -Qtdq)\n",
    "\n",
    "#Clean home cache\n",
    "cache is located in ~/.cache\n",
    "\n",
    "#Config Files\n",
    "stored in ~/.config/\n",
    "\n",
    "#new line"
   ]
  }
 ],
 "metadata": {
  "kernelspec": {
   "display_name": "Python 3.8.8 ('base')",
   "language": "python",
   "name": "python3"
  },
  "language_info": {
   "codemirror_mode": {
    "name": "ipython",
    "version": 3
   },
   "file_extension": ".py",
   "mimetype": "text/x-python",
   "name": "python",
   "nbconvert_exporter": "python",
   "pygments_lexer": "ipython3",
   "version": "3.8.8"
  },
  "vscode": {
   "interpreter": {
    "hash": "27c8121e2e9a873957049f1ec24d13aeed5282d43519d2a4b5ef910eaaa46b78"
   }
  }
 },
 "nbformat": 4,
 "nbformat_minor": 5
}
