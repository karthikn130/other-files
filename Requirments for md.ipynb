{
 "cells": [
  {
   "cell_type": "code",
   "execution_count": null,
   "id": "525fceda",
   "metadata": {},
   "outputs": [],
   "source": [
    "#### conda settings\n"
   ]
  },
  {
   "cell_type": "code",
   "execution_count": null,
   "id": "971107a9",
   "metadata": {},
   "outputs": [],
   "source": [
    "#### Ramachandran plot install through conda or pip\n",
    "conda install pyrama\n",
    "pip install pyrama"
   ]
  },
  {
   "cell_type": "code",
   "execution_count": null,
   "id": "41ad8068",
   "metadata": {},
   "outputs": [],
   "source": [
    "# for trajectory files\n",
    "pip install pytraj \n",
    "\n",
    "# for inline visualisation in jupyter notebook\n",
    "conda install -c conda-forge nglview\n",
    "\n",
    "jupyter-nbextension enable nglview --py --sys-prefix\n",
    "jupyter labextension install  nglview-js-widgets "
   ]
  },
  {
   "cell_type": "markdown",
   "id": "f95c6ccc",
   "metadata": {},
   "source": [
    "#### Useful conda channels\n"
   ]
  },
  {
   "cell_type": "code",
   "execution_count": null,
   "id": "caa77b85",
   "metadata": {},
   "outputs": [],
   "source": [
    "conda config --add channels defaults \n",
    "conda config --add channels bioconda \n",
    "conda config --add channels conda-forge"
   ]
  },
  {
   "cell_type": "markdown",
   "id": "6c32c00a",
   "metadata": {},
   "source": [
    "#### conda packages"
   ]
  },
  {
   "cell_type": "code",
   "execution_count": null,
   "id": "4dbd402c",
   "metadata": {},
   "outputs": [],
   "source": [
    "#### install from conda package managers\n",
    "conda install -c bioconda gromacs\n",
    "conda install -c conda-forge ambertools\n",
    "conda install -c omnia openmm\n",
    "conda install -c cbarnett namd\n",
    "conda install -c conda-forge mdtraj\n",
    "conda install -c ambermd pytraj\n",
    "conda install -c conda-forge mdanalysis\n",
    "# install xmgrace\n",
    "conda install -c uvcdat xmgrace"
   ]
  }
 ],
 "metadata": {
  "kernelspec": {
   "display_name": "Python 3",
   "language": "python",
   "name": "python3"
  },
  "language_info": {
   "codemirror_mode": {
    "name": "ipython",
    "version": 3
   },
   "file_extension": ".py",
   "mimetype": "text/x-python",
   "name": "python",
   "nbconvert_exporter": "python",
   "pygments_lexer": "ipython3",
   "version": "3.8.8"
  }
 },
 "nbformat": 4,
 "nbformat_minor": 5
}
