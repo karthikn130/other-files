{
 "cells": [
  {
   "cell_type": "code",
   "execution_count": null,
   "id": "a8bb4814",
   "metadata": {},
   "outputs": [],
   "source": [
    "git init"
   ]
  },
  {
   "cell_type": "code",
   "execution_count": null,
   "id": "25acb5ac",
   "metadata": {},
   "outputs": [],
   "source": [
    "git add ."
   ]
  },
  {
   "cell_type": "code",
   "execution_count": null,
   "id": "cf5eef2f",
   "metadata": {},
   "outputs": [],
   "source": [
    "git status"
   ]
  },
  {
   "cell_type": "code",
   "execution_count": null,
   "id": "2fcc6bca",
   "metadata": {},
   "outputs": [],
   "source": [
    "git commit -m first_commit"
   ]
  },
  {
   "cell_type": "code",
   "execution_count": null,
   "id": "0f882d8f",
   "metadata": {},
   "outputs": [],
   "source": [
    "git remote add \"repo name\" 'repo_url_name'"
   ]
  },
  {
   "cell_type": "code",
   "execution_count": null,
   "id": "a8a092d1",
   "metadata": {},
   "outputs": [],
   "source": [
    "git push -u \"repo name\" master"
   ]
  },
  {
   "cell_type": "code",
   "execution_count": null,
   "id": "aeddff93",
   "metadata": {},
   "outputs": [],
   "source": []
  }
 ],
 "metadata": {
  "kernelspec": {
   "display_name": "Python 3",
   "language": "python",
   "name": "python3"
  },
  "language_info": {
   "codemirror_mode": {
    "name": "ipython",
    "version": 3
   },
   "file_extension": ".py",
   "mimetype": "text/x-python",
   "name": "python",
   "nbconvert_exporter": "python",
   "pygments_lexer": "ipython3",
   "version": "3.8.8"
  }
 },
 "nbformat": 4,
 "nbformat_minor": 5
}
