{
 "cells": [
  {
   "cell_type": "code",
   "execution_count": null,
   "id": "2a71b6fc",
   "metadata": {},
   "outputs": [],
   "source": [
    "Set your username: git config --global user.name \"FIRST_NAME LAST_NAME\"\n",
    "Set your email address: git config --global user.email \"MY_NAME@example.com\""
   ]
  },
  {
   "cell_type": "code",
   "execution_count": null,
   "id": "a8bb4814",
   "metadata": {},
   "outputs": [],
   "source": [
    "git init"
   ]
  },
  {
   "cell_type": "code",
   "execution_count": null,
   "id": "0f882d8f",
   "metadata": {},
   "outputs": [],
   "source": [
    "git remote add \"repo name\" 'repo_url_name'"
   ]
  },
  {
   "cell_type": "code",
   "execution_count": null,
   "id": "a8a092d1",
   "metadata": {},
   "outputs": [],
   "source": [
    "git push -u \"repo name\" master"
   ]
  },
  {
   "cell_type": "code",
   "execution_count": null,
   "id": "aeddff93",
   "metadata": {},
   "outputs": [],
   "source": []
  }
 ],
 "metadata": {
  "kernelspec": {
   "display_name": "Python 3.9.5 64-bit",
   "language": "python",
   "name": "python3"
  },
  "language_info": {
   "codemirror_mode": {
    "name": "ipython",
    "version": 3
   },
   "file_extension": ".py",
   "mimetype": "text/x-python",
   "name": "python",
   "nbconvert_exporter": "python",
   "pygments_lexer": "ipython3",
   "version": "3.9.5"
  },
  "vscode": {
   "interpreter": {
    "hash": "e3d2efb1292d61e35d6136b4e4dd81c1b44889163a69f532f9f64a9e7733a148"
   }
  }
 },
 "nbformat": 4,
 "nbformat_minor": 5
}
