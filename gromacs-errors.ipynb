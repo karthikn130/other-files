{
 "cells": [
  {
   "cell_type": "markdown",
   "id": "772d134c",
   "metadata": {},
   "source": [
    "### 1. Something is wrong in the coordinate formatting of file complex.gro\n",
    "\n",
    "In complex complex.gro file the residue or ligand name is long. try to make it shorter than 5 characters"
   ]
  },
  {
   "cell_type": "markdown",
   "id": "62152645",
   "metadata": {},
   "source": [
    "### 2. One or more water molecules can not be settled.\n",
    "\n",
    "In em.mdp file add \"define= -DFLEXIBLE\" in second line\n"
   ]
  },
  {
   "cell_type": "markdown",
   "id": "f713ebc6",
   "metadata": {},
   "source": [
    "### 3. cgenff script error\n",
    "\n",
    "install correct python version and networkx version\n"
   ]
  },
  {
   "cell_type": "markdown",
   "id": "e0aaa811",
   "metadata": {},
   "source": []
  }
 ],
 "metadata": {
  "kernelspec": {
   "display_name": "Python 3.8.8 ('base')",
   "language": "python",
   "name": "python3"
  },
  "language_info": {
   "codemirror_mode": {
    "name": "ipython",
    "version": 3
   },
   "file_extension": ".py",
   "mimetype": "text/x-python",
   "name": "python",
   "nbconvert_exporter": "python",
   "pygments_lexer": "ipython3",
   "version": "3.8.8"
  },
  "vscode": {
   "interpreter": {
    "hash": "27c8121e2e9a873957049f1ec24d13aeed5282d43519d2a4b5ef910eaaa46b78"
   }
  }
 },
 "nbformat": 4,
 "nbformat_minor": 5
}
