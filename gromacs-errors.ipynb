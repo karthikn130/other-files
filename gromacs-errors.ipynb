{
 "cells": [
  {
   "cell_type": "markdown",
   "id": "772d134c",
   "metadata": {},
   "source": [
    "### 1. Something is wrong in the coordinate formatting of file complex.gro\n",
    "\n",
    "In complex complex.gro file the residue or ligand name is long. try to make it shorter than 5 characters"
   ]
  },
  {
   "cell_type": "markdown",
   "id": "62152645",
   "metadata": {},
   "source": [
    "### 2. One or more water molecules can not be settled.\n",
    "\n",
    "In em.mdp file add \"define= -DFLEXIBLE\" in second line\n"
   ]
  },
  {
   "cell_type": "markdown",
   "id": "f713ebc6",
   "metadata": {},
   "source": [
    "### 3. cgenff script error\n",
    "\n",
    "install correct python version and networkx version\n"
   ]
  },
  {
   "cell_type": "markdown",
   "id": "e0aaa811",
   "metadata": {},
   "source": []
  }
 ],
 "metadata": {
  "kernelspec": {
   "display_name": "Python 3.9.5 64-bit",
   "language": "python",
   "name": "python3"
  },
  "language_info": {
   "codemirror_mode": {
    "name": "ipython",
    "version": 3
   },
   "file_extension": ".py",
   "mimetype": "text/x-python",
   "name": "python",
   "nbconvert_exporter": "python",
   "pygments_lexer": "ipython3",
   "version": "3.9.5"
  },
  "vscode": {
   "interpreter": {
    "hash": "e3d2efb1292d61e35d6136b4e4dd81c1b44889163a69f532f9f64a9e7733a148"
   }
  }
 },
 "nbformat": 4,
 "nbformat_minor": 5
}
