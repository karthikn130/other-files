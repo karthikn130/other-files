{
 "cells": [
  {
   "cell_type": "code",
   "execution_count": null,
   "metadata": {},
   "outputs": [],
   "source": []
  },
  {
   "cell_type": "markdown",
   "metadata": {},
   "source": [
    "The grep filter searches a file for a particular pattern of characters, and displays all lines that contain that pattern. The pattern that is searched in the file is referred to as the regular expression (grep stands for global search for regular expression and print out). "
   ]
  },
  {
   "cell_type": "markdown",
   "metadata": {},
   "source": [
    "grep [options] pattern [files]"
   ]
  },
  {
   "cell_type": "markdown",
   "metadata": {},
   "source": [
    "Options Description\n",
    "-c : This prints only a count of the lines that match a pattern\n",
    "-h : Display the matched lines, but do not display the filenames.\n",
    "-i : Ignores, case for matching\n",
    "-l : Displays list of a filenames only.\n",
    "-n : Display the matched lines and their line numbers.\n",
    "-v : This prints out all the lines that do not matches the pattern\n",
    "-e exp : Specifies expression with this option. Can use multiple times.\n",
    "-f file : Takes patterns from file, one per line.\n",
    "-E : Treats pattern as an extended regular expression (ERE)\n",
    "-w : Match whole word\n",
    "-o : Print only the matched parts of a matching line,\n",
    " with each such part on a separate output line.\n",
    "\n",
    "-A n : Prints searched line and nlines after the result.\n",
    "-B n : Prints searched line and n line before the result.\n",
    "-C n : Prints searched line and n lines after before the result."
   ]
  }
 ],
 "metadata": {
  "kernelspec": {
   "display_name": "Python 3.8.13 ('insilico')",
   "language": "python",
   "name": "python3"
  },
  "language_info": {
   "name": "python",
   "version": "3.8.13"
  },
  "orig_nbformat": 4,
  "vscode": {
   "interpreter": {
    "hash": "636da1f0f4a4dfe7781e6ef62d9b19adb2fafa6b220f749b66bb3a5e6a641f06"
   }
  }
 },
 "nbformat": 4,
 "nbformat_minor": 2
}
