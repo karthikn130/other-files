{
 "cells": [
  {
   "cell_type": "markdown",
   "metadata": {},
   "source": [
    "\n",
    "**Note**: `$` denotes the start of a command. Don't actually type this.\n",
    "\n",
    "# Steps to Install Anaconda on Windows Ubuntu Terminal\n",
    "1. Do check which python\n",
    "2. Install WSL (Ubuntu for Windows - can be found in Windows Store). I recommend the latest version (I'm using 18.04) because there are some bugs they worked out during 14/16 (https://github.com/Microsoft/WSL/issues/785)\n",
    "3. Go to https://repo.continuum.io/archive to find the list of Anaconda releases\n",
    "4. Select the release you want. I have a 64-bit computer, so I chose the latest release ending in `x86_64.sh`. If I had a 32-bit computer, I'd select the `x86.sh` version. If you accidentally try to install the wrong one, you'll get a warning in the terminal. I chose `Anaconda3-5.2.0-Linux-x86_64.sh`.\n",
    "5. From the terminal run `wget https://repo.continuum.io/archive/[YOUR VERSION]`. Example: `$ wget https://repo.continuum.io/archive/Anaconda3-5.2.0-Linux-x86_64.sh`\n",
    "6. Run the installation script: `$ bash [YOUR Anaconda file name].sh` (`$ bash Anaconda3-5.2.0-Linux-x86_64.sh`)\n",
    "7. Read the license agreement and follow the prompts to accept. When asks you if you'd like the installer to prepend it to the path, say yes.\n",
    "8. Optionally install VS Code when prompted (some have reported this installation doesn't work - checkout https://gist.github.com/kauffmanes/5e74916617f9993bc3479f401dfec7da#gistcomment-3665550)\n",
    "9. Close the terminal and reopen it to reload .bash configs.\n",
    "10. To test that it worked, run `$ which python` inside and outside base environment. Mine is `/home/<user>/anaconda3/bin/python`. If it doesn't have anaconda in the path, do the next step. Otherwise, move to step 11.\n",
    "11. Manually add the Anaconda bin folder to your PATH. To do this, I added \"export PATH=/home/kauff/anaconda3/bin:$PATH\" to the bottom of my ~/.bashrc file. \n",
    "12. To open jupyter, type `$ jupyter notebook --no-browser`. The no browser flag will still run Jupyter on port 8888, but it won't pop it open automatically. it's necessary since you don't have a browser (probably) in your subsystem. In the terminal, it will give you a link to paste into your browser. If it worked, you should see your notebooks!\n",
    "\n",
    "\n",
    "## A few other things that I did out of laziness but aren't necessary\n",
    "- made a symlink between my C:/Users/kauff/Documents/JupyterNotebooks folder (where I put my downloaded notebooks in Windows) to my Ubuntu notebook directory:\n",
    "In the WSL terminal:\n",
    "1. `cd ~`\n",
    "2. `ln -s /mnt/c/Users/kauff/Documents/JupyterNotebooks/ notebooks` Now when you look at Jupyter on :8888, you should see a notebooks folder that has everything your C:/Users/kauff folder has.\n",
    "3. I made an alias for the juypter command by putting this command in my .bash_aliases: `alias jup='cd /home/kauff/notebooks && jupyter notebook --no-browser`. Restart the terminal for this new command to take effect.\n",
    "4. To test, simply type `jup` from anywhere in the ubuntu directory and it will take you notebooks folder and run jupyter. When you copy and paste the URL, you'll see everything in your C:/Users/kauff/JupyterNotebooks folder.\n",
    "\n",
    "## Troubleshooting\n",
    "\"A note to be made from my installation -- there was an issue with Jupyter that required `conda update conda` and `conda update conda-build`. I then uninstalled/reinstalled jupyter with conda to avoid a 500 error for dependencies\".\n",
    "\n",
    "## Sources\n",
    "https://conda.io/docs/glossary.html#anaconda-glossary\n",
    "https://www.cgranade.com/blog/2016/08/22/qutip-on-wsl.html\n",
    "https://jupyter.readthedocs.io/en/latest/install.html\n",
    "\n"
   ]
  }
 ],
 "metadata": {
  "kernelspec": {
   "display_name": "Python 3.9.12 ('base')",
   "language": "python",
   "name": "python3"
  },
  "language_info": {
   "name": "python",
   "version": "3.9.12"
  },
  "orig_nbformat": 4,
  "vscode": {
   "interpreter": {
    "hash": "27c8121e2e9a873957049f1ec24d13aeed5282d43519d2a4b5ef910eaaa46b78"
   }
  }
 },
 "nbformat": 4,
 "nbformat_minor": 2
}
