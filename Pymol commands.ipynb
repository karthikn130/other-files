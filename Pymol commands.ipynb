{
 "cells": [
  {
   "cell_type": "markdown",
   "metadata": {},
   "source": [
    "### Transparency"
   ]
  },
  {
   "cell_type": "code",
   "execution_count": null,
   "metadata": {},
   "outputs": [],
   "source": [
    "Transparency is used to adjust the transparency of Surfaces and Slices"
   ]
  },
  {
   "cell_type": "code",
   "execution_count": null,
   "metadata": {},
   "outputs": [],
   "source": [
    "set transparency, F, selection\n",
    "\n",
    "#Whole Surface\n",
    "set transparency, 0.5\n",
    "\n",
    "#Selected Surface Elements =\n",
    "#set the partial transparency for the selected residues\n",
    "set transparency, 0.65, i. 1-100"
   ]
  },
  {
   "cell_type": "code",
   "execution_count": null,
   "metadata": {},
   "outputs": [],
   "source": [
    "This setting changes the transparency of the cartoon representation."
   ]
  },
  {
   "cell_type": "code",
   "execution_count": null,
   "metadata": {},
   "outputs": [],
   "source": [
    "# 50% transparent, the object name is optional\n",
    "set cartoon_transparency, 0.5, <object> \n",
    "\n",
    "# 50% transparent, sele: the selection name\n",
    "set cartoon_transparency, 0.5, <sele>  \n",
    "\n"
   ]
  },
  {
   "cell_type": "code",
   "execution_count": null,
   "metadata": {},
   "outputs": [],
   "source": [
    "set sphere_transparency is used to adjust the transparency of spheres!"
   ]
  },
  {
   "cell_type": "code",
   "execution_count": null,
   "metadata": {},
   "outputs": [],
   "source": [
    "set sphere_transparency, 0.5\n",
    "set sphere_transparency=0.5, selection"
   ]
  },
  {
   "cell_type": "code",
   "execution_count": null,
   "metadata": {},
   "outputs": [],
   "source": [
    "The setting \"stick_transparency\" allows one to set the degree of transparency for stick objects, independent of all other objects."
   ]
  },
  {
   "cell_type": "code",
   "execution_count": null,
   "metadata": {},
   "outputs": [],
   "source": [
    "set stick_transparency, F, objectname\n",
    "set_bond stick_transparency, F, selection\n",
    "\n",
    "#To apply this setting to a selection, use \"set_bond\" syntax\n",
    "set_bond stick_transparency, 0.7, */n+c+ca+o\n",
    "\n",
    "# Makes sticks 50-percent transparent\n",
    "set stick_transparency, 0.50   \n",
    "\n"
   ]
  },
  {
   "cell_type": "markdown",
   "metadata": {},
   "source": [
    "### Script to show surface and color by chainbows"
   ]
  },
  {
   "cell_type": "code",
   "execution_count": null,
   "metadata": {},
   "outputs": [],
   "source": [
    "show surface, *\n",
    "util.chainbow(\"*\")\n",
    "hide surface, organic\n",
    "show sticks, organic"
   ]
  }
 ],
 "metadata": {
  "kernelspec": {
   "display_name": "Python 3",
   "language": "python",
   "name": "python3"
  },
  "language_info": {
   "codemirror_mode": {
    "name": "ipython",
    "version": 3
   },
   "file_extension": ".py",
   "mimetype": "text/x-python",
   "name": "python",
   "nbconvert_exporter": "python",
   "pygments_lexer": "ipython3",
   "version": "3.8.8"
  }
 },
 "nbformat": 4,
 "nbformat_minor": 2
}
