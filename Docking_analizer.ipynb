{
 "cells": [
  {
   "cell_type": "markdown",
   "metadata": {},
   "source": [
    "# Libraries"
   ]
  },
  {
   "cell_type": "markdown",
   "metadata": {},
   "source": [
    "##### takes vina output pdbqt file and displays the docking score"
   ]
  },
  {
   "cell_type": "code",
   "execution_count": null,
   "metadata": {},
   "outputs": [],
   "source": [
    "import re\n",
    "import os\n",
    "import glob\n",
    "from pprint import pprint\n",
    "import pandas as pd\n",
    "import matplotlib as mt\n",
    "from matplotlib import pyplot as plt\n",
    "from matplotlib import pylab\n",
    "import openbabel as obabel\n",
    "import openbabel.pybel as babel\n",
    "\n",
    "#import vina parser\n",
    "import vina_parser\n"
   ]
  },
  {
   "cell_type": "code",
   "execution_count": null,
   "metadata": {},
   "outputs": [],
   "source": [
    "vina_parser.vina_score(\"vina_log.txt\")"
   ]
  },
  {
   "cell_type": "code",
   "execution_count": null,
   "metadata": {},
   "outputs": [],
   "source": [
    "%matplotlib inline\n",
    "#%matplotlib notebook\n",
    "\n",
    "# Matplotlib options\n",
    "%matplotlib inline\n",
    "mt.style.use('ggplot')\n",
    "pylab.rcParams['figure.figsize'] = 12, 8\n"
   ]
  },
  {
   "cell_type": "markdown",
   "metadata": {},
   "source": [
    "##### Working with AutodockVina output (pdbqt) files"
   ]
  },
  {
   "cell_type": "code",
   "execution_count": 4,
   "metadata": {},
   "outputs": [],
   "source": [
    "os.chdir('/home/karthi/python_documents/other-files/')\n",
    "files = []\n",
    "names = []\n",
    "scores = []\n",
    "mass = []\n",
    "formula = []\n",
    "smiles = []\n",
    "model = []\n",
    "for file in glob.glob(\"*.pdbqt\"):\n",
    "    with open(file, 'rt') as pdbqt_file:\n",
    "        for line in pdbqt_file:\n",
    "            line = line.strip()\n",
    "            if \"VINA RESULT\" in line:\n",
    "                neg = re.search(r'-\\d.\\d', line)\n",
    "                neg_2 = re.search(r'-\\d\\d.\\d', line)\n",
    "                if neg:\n",
    "                    files.append(pdbqt_file.name)\n",
    "                    scores.append(float(neg.group()))\n",
    "\n",
    "                elif neg_2:\n",
    "                    files.append(pdbqt_file.name)\n",
    "                    scores.append(float(neg_2.group()))\n",
    "\n",
    "                if not (neg or neg_2):\n",
    "                    files.append(pdbqt_file.name)\n",
    "                    scores.append(\n",
    "                        'positive value, sorry I can´t keep it (yet)')\n",
    "\n",
    "    for mol in babel.readfile(\"pdbqt\", file):\n",
    "        names.append(mol.title)\n",
    "        mass.append(mol.molwt)\n",
    "        formula.append(mol.formula)\n",
    "        model.append(mol.data['MODEL'])\n",
    "        smiles.append(mol)\n",
    "\n",
    "d = {'file': pd.Series(files),\n",
    "     'score': pd.Series(scores),\n",
    "     'model': pd.Series(model),\n",
    "     'compound name': pd.Series(names),\n",
    "     'molecular formula': pd.Series(formula),\n",
    "     'molecular weight': pd.Series(mass),\n",
    "     'smiles': pd.Series(smiles)}\n",
    "table = pd.DataFrame(d)\n"
   ]
  },
  {
   "cell_type": "code",
   "execution_count": 5,
   "metadata": {},
   "outputs": [
    {
     "data": {
      "text/html": [
       "<div>\n",
       "<style scoped>\n",
       "    .dataframe tbody tr th:only-of-type {\n",
       "        vertical-align: middle;\n",
       "    }\n",
       "\n",
       "    .dataframe tbody tr th {\n",
       "        vertical-align: top;\n",
       "    }\n",
       "\n",
       "    .dataframe thead th {\n",
       "        text-align: right;\n",
       "    }\n",
       "</style>\n",
       "<table border=\"1\" class=\"dataframe\">\n",
       "  <thead>\n",
       "    <tr style=\"text-align: right;\">\n",
       "      <th></th>\n",
       "      <th>file</th>\n",
       "      <th>score</th>\n",
       "      <th>model</th>\n",
       "      <th>compound name</th>\n",
       "      <th>molecular formula</th>\n",
       "      <th>molecular weight</th>\n",
       "      <th>smiles</th>\n",
       "    </tr>\n",
       "  </thead>\n",
       "  <tbody>\n",
       "    <tr>\n",
       "      <th>0</th>\n",
       "      <td>remdesivir_out.pdbqt</td>\n",
       "      <td>-8.3</td>\n",
       "      <td>1</td>\n",
       "      <td>remdesivir_out.pdbqt</td>\n",
       "      <td>C27H5N6O8P</td>\n",
       "      <td>572.337761</td>\n",
       "      <td>[C]1(O[C@](C#N)([C]([C]1O)O)C1=[C][C]=C2N1N=[C...</td>\n",
       "    </tr>\n",
       "    <tr>\n",
       "      <th>1</th>\n",
       "      <td>remdesivir_out.pdbqt</td>\n",
       "      <td>-8.2</td>\n",
       "      <td>2</td>\n",
       "      <td>remdesivir_out.pdbqt</td>\n",
       "      <td>C27H5N6O8P</td>\n",
       "      <td>572.337761</td>\n",
       "      <td>[C]1(O[C@](C#N)([C]([C]1O)O)C1=[C][C]=C2N1N=[C...</td>\n",
       "    </tr>\n",
       "    <tr>\n",
       "      <th>2</th>\n",
       "      <td>remdesivir_out.pdbqt</td>\n",
       "      <td>-7.7</td>\n",
       "      <td>3</td>\n",
       "      <td>remdesivir_out.pdbqt</td>\n",
       "      <td>C27H5N6O8P</td>\n",
       "      <td>572.337761</td>\n",
       "      <td>[C]1(O[C@](C#N)([C]([C]1O)O)C1=[C][C]=C2N1N=[C...</td>\n",
       "    </tr>\n",
       "    <tr>\n",
       "      <th>3</th>\n",
       "      <td>remdesivir_out.pdbqt</td>\n",
       "      <td>-7.3</td>\n",
       "      <td>4</td>\n",
       "      <td>remdesivir_out.pdbqt</td>\n",
       "      <td>C27H5N6O8P</td>\n",
       "      <td>572.337761</td>\n",
       "      <td>[C]1(O[C@](C#N)([C]([C]1O)O)C1=[C][C]=C2N1N=[C...</td>\n",
       "    </tr>\n",
       "    <tr>\n",
       "      <th>4</th>\n",
       "      <td>remdesivir_out.pdbqt</td>\n",
       "      <td>-7.2</td>\n",
       "      <td>5</td>\n",
       "      <td>remdesivir_out.pdbqt</td>\n",
       "      <td>C27H5N6O8P</td>\n",
       "      <td>572.337761</td>\n",
       "      <td>[C]1(O[C@](C#N)([C]([C]1O)O)C1=[C][C]=C2N1N=[C...</td>\n",
       "    </tr>\n",
       "    <tr>\n",
       "      <th>5</th>\n",
       "      <td>remdesivir_out.pdbqt</td>\n",
       "      <td>-7.1</td>\n",
       "      <td>6</td>\n",
       "      <td>remdesivir_out.pdbqt</td>\n",
       "      <td>C27H5N6O8P</td>\n",
       "      <td>572.337761</td>\n",
       "      <td>[C]1(O[C@](C#N)([C]([C]1O)O)C1=[C][C]=C2N1N=[C...</td>\n",
       "    </tr>\n",
       "    <tr>\n",
       "      <th>6</th>\n",
       "      <td>remdesivir_out.pdbqt</td>\n",
       "      <td>-7.1</td>\n",
       "      <td>7</td>\n",
       "      <td>remdesivir_out.pdbqt</td>\n",
       "      <td>C27H5N6O8P</td>\n",
       "      <td>572.337761</td>\n",
       "      <td>[C]1(O[C@](C#N)([C]([C]1O)O)C1=[C][C]=C2N1N=[C...</td>\n",
       "    </tr>\n",
       "    <tr>\n",
       "      <th>7</th>\n",
       "      <td>remdesivir_out.pdbqt</td>\n",
       "      <td>-7.1</td>\n",
       "      <td>8</td>\n",
       "      <td>remdesivir_out.pdbqt</td>\n",
       "      <td>C27H5N6O8P</td>\n",
       "      <td>572.337761</td>\n",
       "      <td>[C]1(O[C@](C#N)([C]([C]1O)O)C1=[C][C]=C2N1N=[C...</td>\n",
       "    </tr>\n",
       "    <tr>\n",
       "      <th>8</th>\n",
       "      <td>remdesivir_out.pdbqt</td>\n",
       "      <td>-7.1</td>\n",
       "      <td>9</td>\n",
       "      <td>remdesivir_out.pdbqt</td>\n",
       "      <td>C27H5N6O8P</td>\n",
       "      <td>572.337761</td>\n",
       "      <td>[C]1(O[C@](C#N)([C]([C]1O)O)C1=[C][C]=C2N1N=[C...</td>\n",
       "    </tr>\n",
       "  </tbody>\n",
       "</table>\n",
       "</div>"
      ],
      "text/plain": [
       "                   file  score model         compound name molecular formula  \\\n",
       "0  remdesivir_out.pdbqt   -8.3     1  remdesivir_out.pdbqt        C27H5N6O8P   \n",
       "1  remdesivir_out.pdbqt   -8.2     2  remdesivir_out.pdbqt        C27H5N6O8P   \n",
       "2  remdesivir_out.pdbqt   -7.7     3  remdesivir_out.pdbqt        C27H5N6O8P   \n",
       "3  remdesivir_out.pdbqt   -7.3     4  remdesivir_out.pdbqt        C27H5N6O8P   \n",
       "4  remdesivir_out.pdbqt   -7.2     5  remdesivir_out.pdbqt        C27H5N6O8P   \n",
       "5  remdesivir_out.pdbqt   -7.1     6  remdesivir_out.pdbqt        C27H5N6O8P   \n",
       "6  remdesivir_out.pdbqt   -7.1     7  remdesivir_out.pdbqt        C27H5N6O8P   \n",
       "7  remdesivir_out.pdbqt   -7.1     8  remdesivir_out.pdbqt        C27H5N6O8P   \n",
       "8  remdesivir_out.pdbqt   -7.1     9  remdesivir_out.pdbqt        C27H5N6O8P   \n",
       "\n",
       "   molecular weight                                             smiles  \n",
       "0        572.337761  [C]1(O[C@](C#N)([C]([C]1O)O)C1=[C][C]=C2N1N=[C...  \n",
       "1        572.337761  [C]1(O[C@](C#N)([C]([C]1O)O)C1=[C][C]=C2N1N=[C...  \n",
       "2        572.337761  [C]1(O[C@](C#N)([C]([C]1O)O)C1=[C][C]=C2N1N=[C...  \n",
       "3        572.337761  [C]1(O[C@](C#N)([C]([C]1O)O)C1=[C][C]=C2N1N=[C...  \n",
       "4        572.337761  [C]1(O[C@](C#N)([C]([C]1O)O)C1=[C][C]=C2N1N=[C...  \n",
       "5        572.337761  [C]1(O[C@](C#N)([C]([C]1O)O)C1=[C][C]=C2N1N=[C...  \n",
       "6        572.337761  [C]1(O[C@](C#N)([C]([C]1O)O)C1=[C][C]=C2N1N=[C...  \n",
       "7        572.337761  [C]1(O[C@](C#N)([C]([C]1O)O)C1=[C][C]=C2N1N=[C...  \n",
       "8        572.337761  [C]1(O[C@](C#N)([C]([C]1O)O)C1=[C][C]=C2N1N=[C...  "
      ]
     },
     "execution_count": 5,
     "metadata": {},
     "output_type": "execute_result"
    }
   ],
   "source": [
    "table\n"
   ]
  },
  {
   "cell_type": "markdown",
   "metadata": {},
   "source": [
    "## Save the table to a csv file"
   ]
  },
  {
   "cell_type": "code",
   "execution_count": 6,
   "metadata": {},
   "outputs": [],
   "source": [
    "table.to_csv('no_sorted_scores.csv')\n",
    "sort = table.sort_values('score', ascending=False)\n",
    "sort.to_csv('sorted_scores.csv')\n"
   ]
  },
  {
   "cell_type": "markdown",
   "metadata": {},
   "source": [
    "## Ploting options"
   ]
  },
  {
   "cell_type": "code",
   "execution_count": 7,
   "metadata": {},
   "outputs": [
    {
     "name": "stderr",
     "output_type": "stream",
     "text": [
      "/tmp/ipykernel_56597/469420315.py:1: UserWarning: marker is redundantly defined by the 'marker' keyword argument and the fmt string \"ro\" (-> marker='o'). The keyword argument will take precedence.\n",
      "  plt.plot(list(table['molecular weight']),\n"
     ]
    },
    {
     "data": {
      "text/plain": [
       "Text(0, 0.5, 'score (Kcal/mol)')"
      ]
     },
     "execution_count": 7,
     "metadata": {},
     "output_type": "execute_result"
    },
    {
     "data": {
      "image/png": "[encoded data removed]",
      "text/plain": [
       "<Figure size 432x288 with 1 Axes>"
      ]
     },
     "metadata": {
      "needs_background": "light"
     },
     "output_type": "display_data"
    }
   ],
   "source": [
    "\n",
    "plt.plot(list(table['molecular weight']),\n",
    "         list(table['score']), 'ro', marker='.')\n",
    "plt.xlabel('molecular weight')\n",
    "plt.ylabel('score (Kcal/mol)')\n"
   ]
  },
  {
   "cell_type": "code",
   "execution_count": 8,
   "metadata": {},
   "outputs": [
    {
     "data": {
      "image/svg+xml": "<svg xmlns=\"http://www.w3.org/2000/svg\" width=\"100\" height=\"100\" x=\"0\" y=\"0\" viewBox=\"0 0 685.905 327.725\" font-family=\"sans-serif\" stroke=\"rgb(0,0,0)\" stroke-width=\"2\" stroke-linecap=\"round\">\n<line x1=\"579.4\" y1=\"75.1\" x2=\"565.9\" y2=\"98.4\" opacity=\"1.0\" stroke=\"rgb(0,0,0)\" stroke-width=\"2.0\" />\n<line x1=\"565.9\" y1=\"98.4\" x2=\"585.9\" y2=\"133.1\" opacity=\"1.0\" stroke=\"rgb(0,0,0)\" stroke-width=\"2.0\" />\n<line x1=\"639.4\" y1=\"109.7\" x2=\"625.9\" y2=\"133.1\" opacity=\"1.0\" stroke=\"rgb(0,0,0)\" stroke-width=\"2.0\" />\n<line x1=\"625.9\" y1=\"133.1\" x2=\"585.9\" y2=\"133.1\" opacity=\"1.0\" stroke=\"rgb(0,0,0)\" stroke-width=\"2.0\" />\n<line x1=\"585.9\" y1=\"133.1\" x2=\"565.9\" y2=\"167.7\" opacity=\"1.0\" stroke=\"rgb(0,0,0)\" stroke-width=\"2.0\" />\n<polygon points=\"465.904767 133.083637 449.040665 111.874156 455.968869 107.874156 \" stroke-width=\"2.000000\" fill=\"rgb(0,0,0)\" stroke=\"rgb(0,0,0)\" />\n<line x1=\"565.9\" y1=\"167.7\" x2=\"538.9\" y2=\"167.7\" opacity=\"1.0\" stroke=\"rgb(0,0,0)\" stroke-width=\"2.0\" />\n<line x1=\"519.4\" y1=\"156.5\" x2=\"505.9\" y2=\"133.1\" opacity=\"1.0\" stroke=\"rgb(0,0,0)\" stroke-width=\"2.0\" />\n<line x1=\"465.9\" y1=\"133.1\" x2=\"505.9\" y2=\"133.1\" opacity=\"1.0\" stroke=\"rgb(0,0,0)\" stroke-width=\"2.0\" />\n<line x1=\"465.9\" y1=\"133.1\" x2=\"452.4\" y2=\"156.5\" opacity=\"1.0\" stroke=\"rgb(0,0,0)\" stroke-width=\"2.0\" />\n<line x1=\"503.3\" y1=\"131.6\" x2=\"516.8\" y2=\"108.2\" opacity=\"1.0\" stroke=\"rgb(0,0,0)\" stroke-width=\"2.0\" />\n<line x1=\"508.5\" y1=\"134.6\" x2=\"522.0\" y2=\"111.2\" opacity=\"1.0\" stroke=\"rgb(0,0,0)\" stroke-width=\"2.0\" />\n<line x1=\"452.4\" y1=\"179.0\" x2=\"459.4\" y2=\"191.1\" opacity=\"1.0\" stroke=\"rgb(0,0,0)\" stroke-width=\"2.0\" />\n<line x1=\"432.9\" y1=\"167.7\" x2=\"418.9\" y2=\"167.7\" opacity=\"1.0\" stroke=\"rgb(0,0,0)\" stroke-width=\"2.0\" />\n<line x1=\"217.1\" y1=\"51.9\" x2=\"228.1\" y2=\"76.5\" opacity=\"1.0\" stroke=\"rgb(0,0,0)\" stroke-width=\"2.0\" />\n<line x1=\"220.9\" y1=\"50.2\" x2=\"231.9\" y2=\"74.8\" opacity=\"1.0\" stroke=\"rgb(0,0,0)\" stroke-width=\"2.0\" />\n<line x1=\"213.3\" y1=\"53.6\" x2=\"224.2\" y2=\"78.3\" opacity=\"1.0\" stroke=\"rgb(0,0,0)\" stroke-width=\"2.0\" />\n<line x1=\"405.1\" y1=\"151.8\" x2=\"406.7\" y2=\"151.8\" opacity=\"1.0\" stroke=\"rgb(0,0,0)\" stroke-width=\"1.0\" />\n<line x1=\"404.5\" y1=\"149.6\" x2=\"407.3\" y2=\"149.6\" opacity=\"1.0\" stroke=\"rgb(0,0,0)\" stroke-width=\"1.0\" />\n<line x1=\"403.8\" y1=\"147.5\" x2=\"408.0\" y2=\"147.5\" opacity=\"1.0\" stroke=\"rgb(0,0,0)\" stroke-width=\"1.0\" />\n<line x1=\"403.2\" y1=\"145.3\" x2=\"408.6\" y2=\"145.3\" opacity=\"1.0\" stroke=\"rgb(0,0,0)\" stroke-width=\"1.0\" />\n<line x1=\"402.5\" y1=\"143.1\" x2=\"409.3\" y2=\"143.1\" opacity=\"1.0\" stroke=\"rgb(0,0,0)\" stroke-width=\"1.0\" />\n<line x1=\"401.9\" y1=\"140.9\" x2=\"409.9\" y2=\"140.9\" opacity=\"1.0\" stroke=\"rgb(0,0,0)\" stroke-width=\"1.0\" />\n<line x1=\"405.9\" y1=\"180.7\" x2=\"405.9\" y2=\"194.7\" opacity=\"1.0\" stroke=\"rgb(0,0,0)\" stroke-width=\"2.0\" />\n<line x1=\"392.9\" y1=\"167.7\" x2=\"378.9\" y2=\"167.7\" opacity=\"1.0\" stroke=\"rgb(0,0,0)\" stroke-width=\"2.0\" />\n<line x1=\"371.3\" y1=\"227.7\" x2=\"394.6\" y2=\"214.2\" opacity=\"1.0\" stroke=\"rgb(0,0,0)\" stroke-width=\"2.0\" />\n<polygon points=\"244.351096 113.083637 224.427449 78.168765 231.735812 74.914872 \" stroke-width=\"2.000000\" fill=\"rgb(0,0,0)\" stroke=\"rgb(0,0,0)\" />\n<line x1=\"345.9\" y1=\"133.1\" x2=\"359.4\" y2=\"156.5\" opacity=\"1.0\" stroke=\"rgb(0,0,0)\" stroke-width=\"2.0\" />\n<polygon points=\"305.904767 133.083637 345.904767 129.083637 345.904767 137.083637 \" stroke-width=\"2.000000\" fill=\"rgb(0,0,0)\" stroke=\"rgb(0,0,0)\" />\n<line x1=\"284.8\" y1=\"170.3\" x2=\"283.3\" y2=\"170.8\" opacity=\"1.0\" stroke=\"rgb(0,0,0)\" stroke-width=\"1.0\" />\n<line x1=\"286.7\" y1=\"174.2\" x2=\"284.0\" y2=\"175.1\" opacity=\"1.0\" stroke=\"rgb(0,0,0)\" stroke-width=\"1.0\" />\n<line x1=\"288.7\" y1=\"178.1\" x2=\"284.7\" y2=\"179.3\" opacity=\"1.0\" stroke=\"rgb(0,0,0)\" stroke-width=\"1.0\" />\n<line x1=\"290.6\" y1=\"181.9\" x2=\"285.4\" y2=\"183.6\" opacity=\"1.0\" stroke=\"rgb(0,0,0)\" stroke-width=\"1.0\" />\n<line x1=\"292.5\" y1=\"185.8\" x2=\"286.2\" y2=\"187.9\" opacity=\"1.0\" stroke=\"rgb(0,0,0)\" stroke-width=\"1.0\" />\n<line x1=\"294.5\" y1=\"189.7\" x2=\"286.9\" y2=\"192.2\" opacity=\"1.0\" stroke=\"rgb(0,0,0)\" stroke-width=\"1.0\" />\n<line x1=\"244.4\" y1=\"113.1\" x2=\"204.6\" y2=\"108.9\" opacity=\"1.0\" stroke=\"rgb(0,0,0)\" stroke-width=\"2.0\" />\n<polygon points=\"244.351096 153.083637 225.020582 172.072349 220.318300 165.600213 \" stroke-width=\"2.000000\" fill=\"rgb(0,0,0)\" stroke=\"rgb(0,0,0)\" />\n<line x1=\"213.3\" y1=\"189.5\" x2=\"214.8\" y2=\"203.4\" opacity=\"1.0\" stroke=\"rgb(0,0,0)\" stroke-width=\"2.0\" />\n<line x1=\"276.7\" y1=\"223.6\" x2=\"286.1\" y2=\"213.1\" opacity=\"1.0\" stroke=\"rgb(0,0,0)\" stroke-width=\"2.0\" />\n<line x1=\"108.9\" y1=\"145.9\" x2=\"84.2\" y2=\"134.9\" opacity=\"1.0\" stroke=\"rgb(0,0,0)\" stroke-width=\"2.0\" />\n<line x1=\"69.5\" y1=\"102.7\" x2=\"71.0\" y2=\"116.7\" opacity=\"1.0\" stroke=\"rgb(0,0,0)\" stroke-width=\"2.0\" />\n<line x1=\"61.8\" y1=\"137.2\" x2=\"50.5\" y2=\"145.5\" opacity=\"1.0\" stroke=\"rgb(0,0,0)\" stroke-width=\"2.0\" />\n<line x1=\"244.4\" y1=\"113.1\" x2=\"270.0\" y2=\"104.7\" opacity=\"1.0\" stroke=\"rgb(0,0,0)\" stroke-width=\"2.0\" />\n<line x1=\"290.0\" y1=\"111.2\" x2=\"305.9\" y2=\"133.1\" opacity=\"1.0\" stroke=\"rgb(0,0,0)\" stroke-width=\"2.0\" />\n<line x1=\"305.9\" y1=\"133.1\" x2=\"282.4\" y2=\"165.4\" opacity=\"1.0\" stroke=\"rgb(0,0,0)\" stroke-width=\"2.0\" />\n<line x1=\"282.4\" y1=\"165.4\" x2=\"244.4\" y2=\"153.1\" opacity=\"1.0\" stroke=\"rgb(0,0,0)\" stroke-width=\"2.0\" />\n<line x1=\"244.4\" y1=\"153.1\" x2=\"244.4\" y2=\"113.1\" opacity=\"1.0\" stroke=\"rgb(0,0,0)\" stroke-width=\"2.0\" />\n<line x1=\"145.4\" y1=\"82.6\" x2=\"141.3\" y2=\"122.4\" opacity=\"1.0\" stroke=\"rgb(0,0,0)\" stroke-width=\"2.0\" />\n<line x1=\"152.0\" y1=\"89.3\" x2=\"149.1\" y2=\"117.1\" opacity=\"1.0\" stroke=\"rgb(0,0,0)\" stroke-width=\"2.0\" />\n<line x1=\"141.3\" y1=\"122.4\" x2=\"165.9\" y2=\"133.3\" opacity=\"1.0\" stroke=\"rgb(0,0,0)\" stroke-width=\"2.0\" />\n<line x1=\"186.5\" y1=\"129.0\" x2=\"204.6\" y2=\"108.9\" opacity=\"1.0\" stroke=\"rgb(0,0,0)\" stroke-width=\"2.0\" />\n<line x1=\"204.6\" y1=\"108.9\" x2=\"184.6\" y2=\"74.3\" opacity=\"1.0\" stroke=\"rgb(0,0,0)\" stroke-width=\"2.0\" />\n<line x1=\"195.3\" y1=\"107.3\" x2=\"181.3\" y2=\"83.1\" opacity=\"1.0\" stroke=\"rgb(0,0,0)\" stroke-width=\"2.0\" />\n<line x1=\"184.6\" y1=\"74.3\" x2=\"145.4\" y2=\"82.6\" opacity=\"1.0\" stroke=\"rgb(0,0,0)\" stroke-width=\"2.0\" />\n<line x1=\"371.3\" y1=\"267.7\" x2=\"371.3\" y2=\"227.7\" opacity=\"1.0\" stroke=\"rgb(0,0,0)\" stroke-width=\"2.0\" />\n<line x1=\"364.1\" y1=\"261.7\" x2=\"364.1\" y2=\"233.7\" opacity=\"1.0\" stroke=\"rgb(0,0,0)\" stroke-width=\"2.0\" />\n<line x1=\"371.3\" y1=\"227.7\" x2=\"336.6\" y2=\"207.7\" opacity=\"1.0\" stroke=\"rgb(0,0,0)\" stroke-width=\"2.0\" />\n<line x1=\"336.6\" y1=\"207.7\" x2=\"302.0\" y2=\"227.7\" opacity=\"1.0\" stroke=\"rgb(0,0,0)\" stroke-width=\"2.0\" />\n<line x1=\"335.0\" y1=\"217.0\" x2=\"310.8\" y2=\"231.0\" opacity=\"1.0\" stroke=\"rgb(0,0,0)\" stroke-width=\"2.0\" />\n<line x1=\"302.0\" y1=\"227.7\" x2=\"302.0\" y2=\"267.7\" opacity=\"1.0\" stroke=\"rgb(0,0,0)\" stroke-width=\"2.0\" />\n<line x1=\"302.0\" y1=\"267.7\" x2=\"336.6\" y2=\"287.7\" opacity=\"1.0\" stroke=\"rgb(0,0,0)\" stroke-width=\"2.0\" />\n<line x1=\"310.8\" y1=\"264.5\" x2=\"335.0\" y2=\"278.5\" opacity=\"1.0\" stroke=\"rgb(0,0,0)\" stroke-width=\"2.0\" />\n<line x1=\"336.6\" y1=\"287.7\" x2=\"371.3\" y2=\"267.7\" opacity=\"1.0\" stroke=\"rgb(0,0,0)\" stroke-width=\"2.0\" />\n<line x1=\"108.9\" y1=\"145.9\" x2=\"111.7\" y2=\"172.5\" opacity=\"1.0\" stroke=\"rgb(0,0,0)\" stroke-width=\"2.0\" />\n<line x1=\"116.7\" y1=\"151.1\" x2=\"118.7\" y2=\"169.8\" opacity=\"1.0\" stroke=\"rgb(0,0,0)\" stroke-width=\"2.0\" />\n<line x1=\"125.0\" y1=\"190.9\" x2=\"149.6\" y2=\"201.9\" opacity=\"1.0\" stroke=\"rgb(0,0,0)\" stroke-width=\"2.0\" />\n<line x1=\"149.6\" y1=\"201.9\" x2=\"171.3\" y2=\"186.2\" opacity=\"1.0\" stroke=\"rgb(0,0,0)\" stroke-width=\"2.0\" />\n<line x1=\"150.2\" y1=\"192.6\" x2=\"165.5\" y2=\"181.5\" opacity=\"1.0\" stroke=\"rgb(0,0,0)\" stroke-width=\"2.0\" />\n<line x1=\"180.6\" y1=\"165.5\" x2=\"179.2\" y2=\"151.6\" opacity=\"1.0\" stroke=\"rgb(0,0,0)\" stroke-width=\"2.0\" />\n<line x1=\"141.3\" y1=\"122.4\" x2=\"108.9\" y2=\"145.9\" opacity=\"1.0\" stroke=\"rgb(0,0,0)\" stroke-width=\"2.0\" />\n<text x=\"590.704767\" y=\"59.769604\" fill=\"rgb(102,102,102)\" stroke-width=\"0\" font-weight=\"bold\" font-size=\"16\" />\n<text x=\"590.704767\" y=\"59.769604\" fill=\"rgb(102,102,102)\" stroke-width=\"0\" font-weight=\"bold\" font-size=\"32\">.</text>\n<text x=\"579.904767\" y=\"71.801604\" fill=\"rgb(102,102,102)\" stroke-width=\"0\" font-weight=\"bold\" font-size=\"16\">C</text>\n<text x=\"399.904767\" y=\"135.724653\" fill=\"rgb(255,12,12)\" stroke-width=\"0\" font-weight=\"bold\" font-size=\"16\">O</text>\n<text x=\"439.904767\" y=\"175.724653\" fill=\"rgb(12,12,255)\" stroke-width=\"0\" font-weight=\"bold\" font-size=\"16\">N</text>\n<text x=\"459.904767\" y=\"210.365669\" fill=\"rgb(191,191,191)\" stroke-width=\"0\" font-weight=\"bold\" font-size=\"16\">H</text>\n<text x=\"470.704767\" y=\"129.051637\" fill=\"rgb(102,102,102)\" stroke-width=\"0\" font-weight=\"bold\" font-size=\"16\" />\n<text x=\"470.704767\" y=\"129.051637\" fill=\"rgb(102,102,102)\" stroke-width=\"0\" font-weight=\"bold\" font-size=\"32\">.</text>\n<text x=\"450.704767\" y=\"94.410620\" fill=\"rgb(102,102,102)\" stroke-width=\"0\" font-weight=\"bold\" font-size=\"16\" />\n<text x=\"450.704767\" y=\"94.410620\" fill=\"rgb(102,102,102)\" stroke-width=\"0\" font-weight=\"bold\" font-size=\"32\">.</text>\n<text x=\"439.904767\" y=\"106.442620\" fill=\"rgb(102,102,102)\" stroke-width=\"0\" font-weight=\"bold\" font-size=\"16\">C</text>\n<text x=\"519.904767\" y=\"106.442620\" fill=\"rgb(255,12,12)\" stroke-width=\"0\" font-weight=\"bold\" font-size=\"16\">O</text>\n<text x=\"519.904767\" y=\"175.724653\" fill=\"rgb(255,12,12)\" stroke-width=\"0\" font-weight=\"bold\" font-size=\"16\">O</text>\n<text x=\"570.704767\" y=\"163.692653\" fill=\"rgb(102,102,102)\" stroke-width=\"0\" font-weight=\"bold\" font-size=\"16\" />\n<text x=\"570.704767\" y=\"163.692653\" fill=\"rgb(102,102,102)\" stroke-width=\"0\" font-weight=\"bold\" font-size=\"32\">..</text>\n<text x=\"590.704767\" y=\"129.051637\" fill=\"rgb(102,102,102)\" stroke-width=\"0\" font-weight=\"bold\" font-size=\"16\" />\n<text x=\"590.704767\" y=\"129.051637\" fill=\"rgb(102,102,102)\" stroke-width=\"0\" font-weight=\"bold\" font-size=\"32\">.</text>\n<text x=\"570.704767\" y=\"94.410620\" fill=\"rgb(102,102,102)\" stroke-width=\"0\" font-weight=\"bold\" font-size=\"16\" />\n<text x=\"570.704767\" y=\"94.410620\" fill=\"rgb(102,102,102)\" stroke-width=\"0\" font-weight=\"bold\" font-size=\"32\">..</text>\n<text x=\"399.904767\" y=\"175.724653\" fill=\"rgb(255,127,0)\" stroke-width=\"0\" font-weight=\"bold\" font-size=\"16\">P</text>\n<text x=\"630.704767\" y=\"129.051637\" fill=\"rgb(102,102,102)\" stroke-width=\"0\" font-weight=\"bold\" font-size=\"16\" />\n<text x=\"630.704767\" y=\"129.051637\" fill=\"rgb(102,102,102)\" stroke-width=\"0\" font-weight=\"bold\" font-size=\"32\">..</text>\n<text x=\"650.704767\" y=\"94.410620\" fill=\"rgb(102,102,102)\" stroke-width=\"0\" font-weight=\"bold\" font-size=\"16\" />\n<text x=\"650.704767\" y=\"94.410620\" fill=\"rgb(102,102,102)\" stroke-width=\"0\" font-weight=\"bold\" font-size=\"32\">.</text>\n<text x=\"639.904767\" y=\"106.442620\" fill=\"rgb(102,102,102)\" stroke-width=\"0\" font-weight=\"bold\" font-size=\"16\">C</text>\n<text x=\"399.904767\" y=\"215.724653\" fill=\"rgb(255,12,12)\" stroke-width=\"0\" font-weight=\"bold\" font-size=\"16\">O</text>\n<text x=\"376.063751\" y=\"263.692653\" fill=\"rgb(102,102,102)\" stroke-width=\"0\" font-weight=\"bold\" font-size=\"16\" />\n<text x=\"376.063751\" y=\"263.692653\" fill=\"rgb(102,102,102)\" stroke-width=\"0\" font-weight=\"bold\" font-size=\"32\">.</text>\n<text x=\"341.422735\" y=\"283.692653\" fill=\"rgb(102,102,102)\" stroke-width=\"0\" font-weight=\"bold\" font-size=\"16\" />\n<text x=\"341.422735\" y=\"283.692653\" fill=\"rgb(102,102,102)\" stroke-width=\"0\" font-weight=\"bold\" font-size=\"32\">.</text>\n<text x=\"306.781719\" y=\"263.692653\" fill=\"rgb(102,102,102)\" stroke-width=\"0\" font-weight=\"bold\" font-size=\"16\" />\n<text x=\"306.781719\" y=\"263.692653\" fill=\"rgb(102,102,102)\" stroke-width=\"0\" font-weight=\"bold\" font-size=\"32\">.</text>\n<text x=\"306.781719\" y=\"223.692653\" fill=\"rgb(102,102,102)\" stroke-width=\"0\" font-weight=\"bold\" font-size=\"16\" />\n<text x=\"306.781719\" y=\"223.692653\" fill=\"rgb(102,102,102)\" stroke-width=\"0\" font-weight=\"bold\" font-size=\"32\">.</text>\n<text x=\"341.422735\" y=\"203.692653\" fill=\"rgb(102,102,102)\" stroke-width=\"0\" font-weight=\"bold\" font-size=\"16\" />\n<text x=\"341.422735\" y=\"203.692653\" fill=\"rgb(102,102,102)\" stroke-width=\"0\" font-weight=\"bold\" font-size=\"32\">.</text>\n<text x=\"288.754037\" y=\"211.486577\" fill=\"rgb(255,12,12)\" stroke-width=\"0\" font-weight=\"bold\" font-size=\"16\">O</text>\n<text x=\"261.988812\" y=\"241.212370\" fill=\"rgb(191,191,191)\" stroke-width=\"0\" font-weight=\"bold\" font-size=\"16\">H</text>\n<text x=\"276.393357\" y=\"108.722957\" fill=\"rgb(255,12,12)\" stroke-width=\"0\" font-weight=\"bold\" font-size=\"16\">O</text>\n<text x=\"205.812165\" y=\"48.000000\" fill=\"rgb(12,12,255)\" stroke-width=\"0\" font-weight=\"bold\" font-size=\"16\">N</text>\n<text x=\"249.151096\" y=\"149.051637\" fill=\"rgb(102,102,102)\" stroke-width=\"0\" font-weight=\"bold\" font-size=\"16\" />\n<text x=\"249.151096\" y=\"149.051637\" fill=\"rgb(102,102,102)\" stroke-width=\"0\" font-weight=\"bold\" font-size=\"32\">.</text>\n<text x=\"287.193357\" y=\"161.412316\" fill=\"rgb(102,102,102)\" stroke-width=\"0\" font-weight=\"bold\" font-size=\"16\" />\n<text x=\"287.193357\" y=\"161.412316\" fill=\"rgb(102,102,102)\" stroke-width=\"0\" font-weight=\"bold\" font-size=\"32\">.</text>\n<text x=\"189.370220\" y=\"70.229482\" fill=\"rgb(102,102,102)\" stroke-width=\"0\" font-weight=\"bold\" font-size=\"16\" />\n<text x=\"189.370220\" y=\"70.229482\" fill=\"rgb(102,102,102)\" stroke-width=\"0\" font-weight=\"bold\" font-size=\"32\">.</text>\n<text x=\"150.244316\" y=\"78.545950\" fill=\"rgb(102,102,102)\" stroke-width=\"0\" font-weight=\"bold\" font-size=\"16\" />\n<text x=\"150.244316\" y=\"78.545950\" fill=\"rgb(102,102,102)\" stroke-width=\"0\" font-weight=\"bold\" font-size=\"32\">.</text>\n<text x=\"171.804996\" y=\"146.628291\" fill=\"rgb(12,12,255)\" stroke-width=\"0\" font-weight=\"bold\" font-size=\"16\">N</text>\n<text x=\"310.704767\" y=\"129.051637\" fill=\"rgb(102,102,102)\" stroke-width=\"0\" font-weight=\"bold\" font-size=\"16\" />\n<text x=\"310.704767\" y=\"129.051637\" fill=\"rgb(102,102,102)\" stroke-width=\"0\" font-weight=\"bold\" font-size=\"32\">.</text>\n<text x=\"175.986135\" y=\"186.409167\" fill=\"rgb(12,12,255)\" stroke-width=\"0\" font-weight=\"bold\" font-size=\"16\">N</text>\n<text x=\"154.425455\" y=\"197.888577\" fill=\"rgb(102,102,102)\" stroke-width=\"0\" font-weight=\"bold\" font-size=\"16\" />\n<text x=\"154.425455\" y=\"197.888577\" fill=\"rgb(102,102,102)\" stroke-width=\"0\" font-weight=\"bold\" font-size=\"32\">.</text>\n<text x=\"107.083637\" y=\"193.651111\" fill=\"rgb(12,12,255)\" stroke-width=\"0\" font-weight=\"bold\" font-size=\"16\">N</text>\n<text x=\"66.360680\" y=\"137.600770\" fill=\"rgb(12,12,255)\" stroke-width=\"0\" font-weight=\"bold\" font-size=\"16\">N</text>\n<text x=\"62.179541\" y=\"97.819894\" fill=\"rgb(191,191,191)\" stroke-width=\"0\" font-weight=\"bold\" font-size=\"16\">H</text>\n<text x=\"34.000000\" y=\"161.112180\" fill=\"rgb(191,191,191)\" stroke-width=\"0\" font-weight=\"bold\" font-size=\"16\">H</text>\n<text x=\"205.990416\" y=\"184.595047\" fill=\"rgb(255,12,12)\" stroke-width=\"0\" font-weight=\"bold\" font-size=\"16\">O</text>\n<text x=\"210.171555\" y=\"224.375923\" fill=\"rgb(191,191,191)\" stroke-width=\"0\" font-weight=\"bold\" font-size=\"16\">H</text>\n<text x=\"350.704767\" y=\"129.051637\" fill=\"rgb(102,102,102)\" stroke-width=\"0\" font-weight=\"bold\" font-size=\"16\" />\n<text x=\"350.704767\" y=\"129.051637\" fill=\"rgb(102,102,102)\" stroke-width=\"0\" font-weight=\"bold\" font-size=\"32\">..</text>\n<text x=\"359.904767\" y=\"175.724653\" fill=\"rgb(255,12,12)\" stroke-width=\"0\" font-weight=\"bold\" font-size=\"16\">O</text>\n</svg>\n",
      "text/plain": [
       "<openbabel.pybel.Molecule at 0x7f33dd803a60>"
      ]
     },
     "execution_count": 8,
     "metadata": {},
     "output_type": "execute_result"
    }
   ],
   "source": [
    "table['smiles'][0]\n"
   ]
  },
  {
   "cell_type": "code",
   "execution_count": 9,
   "metadata": {
    "scrolled": true
   },
   "outputs": [
    {
     "name": "stderr",
     "output_type": "stream",
     "text": [
      "/tmp/ipykernel_56597/2991305477.py:1: UserWarning: marker is redundantly defined by the 'marker' keyword argument and the fmt string \"ro\" (-> marker='o'). The keyword argument will take precedence.\n",
      "  plt.plot((list(sort.index)), list(sort['score']), 'ro', marker='.')\n"
     ]
    },
    {
     "data": {
      "text/plain": [
       "Text(0, 0.5, 'score (Kcal/mol)')"
      ]
     },
     "execution_count": 9,
     "metadata": {},
     "output_type": "execute_result"
    },
    {
     "data": {
      "image/png": "[encoded data removed]",
      "text/plain": [
       "<Figure size 432x288 with 1 Axes>"
      ]
     },
     "metadata": {
      "needs_background": "light"
     },
     "output_type": "display_data"
    }
   ],
   "source": [
    "plt.plot((list(sort.index)), list(sort['score']), 'ro', marker='.')\n",
    "plt.xlabel('index')\n",
    "plt.ylabel('score (Kcal/mol)')\n"
   ]
  },
  {
   "cell_type": "code",
   "execution_count": null,
   "metadata": {},
   "outputs": [],
   "source": []
  }
 ],
 "metadata": {
  "kernelspec": {
   "display_name": "Python 3.8.13 ('insilico')",
   "language": "python",
   "name": "python3"
  },
  "language_info": {
   "codemirror_mode": {
    "name": "ipython",
    "version": 3
   },
   "file_extension": ".py",
   "mimetype": "text/x-python",
   "name": "python",
   "nbconvert_exporter": "python",
   "pygments_lexer": "ipython3",
   "version": "3.8.13"
  },
  "vscode": {
   "interpreter": {
    "hash": "636da1f0f4a4dfe7781e6ef62d9b19adb2fafa6b220f749b66bb3a5e6a641f06"
   }
  }
 },
 "nbformat": 4,
 "nbformat_minor": 2
}
