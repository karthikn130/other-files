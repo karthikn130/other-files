{
 "cells": [
  {
   "cell_type": "markdown",
   "metadata": {},
   "source": [
    "#### Required imports for analysis part"
   ]
  },
  {
   "cell_type": "code",
   "execution_count": null,
   "metadata": {
    "scrolled": true
   },
   "outputs": [],
   "source": [
    "import matplotlib as mpl\n",
    "import matplotlib.pyplot as plt\n",
    "import numpy as np\n"
   ]
  },
  {
   "cell_type": "code",
   "execution_count": null,
   "metadata": {},
   "outputs": [],
   "source": [
    "#check all mdp files\n",
    "# 1. number of steps\n",
    "# 2. columb type\n",
    "# 3. temperature coupling groups"
   ]
  },
  {
   "cell_type": "markdown",
   "metadata": {},
   "source": [
    "#### Create ligand pdb"
   ]
  },
  {
   "cell_type": "code",
   "execution_count": 1,
   "metadata": {
    "scrolled": true
   },
   "outputs": [
    {
     "name": "stdout",
     "output_type": "stream",
     "text": [
      "grep: 3HTB.pdb: No such file or directory\n"
     ]
    }
   ],
   "source": [
    "# separates ligand from protein ligand complex and create ligand.pdb file\n",
    "# change the ligand name wherever needed\n",
    "ligand = \"JZ4\"\n",
    "! grep $ligand 3HTB.pdb > ligand.pdb"
   ]
  },
  {
   "cell_type": "markdown",
   "metadata": {},
   "source": [
    "#### Remove waters and non-standard residues"
   ]
  },
  {
   "cell_type": "code",
   "execution_count": null,
   "metadata": {
    "scrolled": true
   },
   "outputs": [],
   "source": [
    "# pdb2gmx takes only protein file containing standard amino acid residues,\n",
    "    # so check the protein file, should contain only standard residues\n",
    "! grep -v HETATM protein.pdb > protein_processed.pdb"
   ]
  },
  {
   "cell_type": "markdown",
   "metadata": {},
   "source": [
    "#### 1. Protein topology"
   ]
  },
  {
   "cell_type": "code",
   "execution_count": null,
   "metadata": {
    "scrolled": true
   },
   "outputs": [],
   "source": [
    "# this command prepares protein topology file and sets water model\n",
    "#system topology topol.top, a position restraint file posre.itp (included in the topology file), and a coordinate file.gro\n",
    "! printf \"1\" | gmx pdb2gmx -f protein_processed.pdb -o protein_processed.gro -water spc"
   ]
  },
  {
   "cell_type": "code",
   "execution_count": null,
   "metadata": {
    "scrolled": true
   },
   "outputs": [],
   "source": [
    "! tail topol.top"
   ]
  },
  {
   "cell_type": "markdown",
   "metadata": {},
   "source": [
    "#### 2. Ligand topology"
   ]
  },
  {
   "cell_type": "code",
   "execution_count": null,
   "metadata": {
    "scrolled": true
   },
   "outputs": [],
   "source": [
    "# for ligand toplogy\n",
    "# 1. convert to mol2 file\n",
    "# 2. Check the ligand variable in 1st step\n",
    "# 3. change number before ligand column to \"1\" and ligand name in mol2 file\n",
    "# 4. change ligand residue name in mol2 file\n",
    "# --tile option is used to specify name of ligand in 2nd row \n",
    "! obabel ligand.pdb --title JZ4 -O ligand.mol2 -h"
   ]
  },
  {
   "cell_type": "code",
   "execution_count": null,
   "metadata": {
    "scrolled": true
   },
   "outputs": [],
   "source": [
    "# 4. fix bond order with perl script\n",
    "! perl scripts/sort_mol2_bonds.pl ligand.mol2 ligand_fix.mol2"
   ]
  },
  {
   "cell_type": "code",
   "execution_count": null,
   "metadata": {
    "scrolled": true
   },
   "outputs": [],
   "source": [
    "\n",
    "# 5. goto cgenFF website and upload the previous mol2 file and get the corresponding .str file. \n",
    "    #(cgenFF website is used only if CHARMM36 Forcefield is used)\n",
    "    #The CHARMM stream file is the ligand topology - atom types,charges, and bonded connectivity.\n",
    "# Examine the contents of .str and look at the penalties for the charges and the new dihedral parameters. \n",
    "    #If all of them are very low, this topology is of very good quality \n",
    "        #and can be used directly for our simulation.\n",
    "\n",
    "# 6. Use the cgenff_charmm2gmx.py script that downloaded from the MacKerell website.    \n",
    "        #this command creates jz4_ini.pdb ligand structure file, ligand.prm dihedral parameters\n",
    "# Change ligand id in below command - important\n",
    "\n",
    "! python3 scripts/cgenff_charmm2gmx_py3_nx2.py JZ4 ligand_fix.mol2 ligand_fix.str charmm36-feb2021.ff/"
   ]
  }
 ],
 "metadata": {
  "kernelspec": {
   "display_name": "Python 3 (ipykernel)",
   "language": "python",
   "name": "python3"
  },
  "language_info": {
   "codemirror_mode": {
    "name": "ipython",
    "version": 3
   },
   "file_extension": ".py",
   "mimetype": "text/x-python",
   "name": "python",
   "nbconvert_exporter": "python",
   "pygments_lexer": "ipython3",
   "version": "3.8.13"
  },
  "vscode": {
   "interpreter": {
    "hash": "636da1f0f4a4dfe7781e6ef62d9b19adb2fafa6b220f749b66bb3a5e6a641f06"
   }
  }
 },
 "nbformat": 4,
 "nbformat_minor": 2
}
