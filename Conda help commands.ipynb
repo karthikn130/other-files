{
 "cells": [
  {
   "cell_type": "code",
   "execution_count": null,
   "id": "d6215b2c",
   "metadata": {},
   "outputs": [],
   "source": [
    "#### list available kernals in jupyter notebook"
   ]
  },
  {
   "cell_type": "code",
   "execution_count": 1,
   "id": "a0796dba",
   "metadata": {},
   "outputs": [
    {
     "name": "stdout",
     "output_type": "stream",
     "text": [
      "Available kernels:\r\n",
      "  python3    /home/karthi/anaconda3/share/jupyter/kernels/python3\r\n"
     ]
    }
   ],
   "source": [
    "! jupyter kernelspec list"
   ]
  },
  {
   "cell_type": "markdown",
   "id": "971290fe",
   "metadata": {},
   "source": [
    "#### Conda commands cheatsheet"
   ]
  },
  {
   "cell_type": "code",
   "execution_count": null,
   "id": "0d98549b",
   "metadata": {},
   "outputs": [],
   "source": [
    "# https://iq.opengenus.org/everything-about-conda/"
   ]
  },
  {
   "cell_type": "code",
   "execution_count": null,
   "id": "9e50fc22",
   "metadata": {},
   "outputs": [],
   "source": [
    "#Install a package\n",
    "conda install $PACKAGE_NAME\n",
    "\n",
    "#Update a package \n",
    "conda update --name $ENVIRONMENT_NAME $PACKAGE_NAME\n",
    "\n",
    "#Update package manager \n",
    "conda update conda\n",
    "\n",
    "#Un-install a package \n",
    "conda remove --name $ENVIRONMENT_NAME $PACKAGE_NAME\n",
    "\n",
    "#Create an environment \n",
    "conda create --name $ENVIRONMENT_NAME\n",
    "\n",
    "#to create an environment with a specific version of Python:\n",
    "conda create --name $ENVIRONMENT_NAME python\n",
    "\n",
    "#Activate an environment \n",
    "conda activate --name $ENVIRONMENT_NAME\n",
    "\n",
    "#Deactivate an environment \n",
    "conda deactivate\n",
    "\n",
    "#Search available packages \n",
    "conda search $SEARCH_TERM\n",
    "\n",
    "#Install a package from specific source \n",
    "conda install --channel $URL $PACKAGE_NAME\n",
    "\n",
    "#To install a specific package into an existing environment \"myenv\":\n",
    "conda install --name myenv scipy\n",
    "\n",
    "#List of installed package \n",
    "conda list --name $ENVIRONMENT_NAME\n",
    "\n",
    "#Create requirements file \n",
    "conda list --export\n",
    "\n",
    "#List all environments\n",
    "conda info --envs\n",
    "\n",
    "#Install other package manager \n",
    "conda install pip\n",
    "\n",
    "#Install Python\n",
    "conda install python=x.x\n",
    "\n",
    "#Update Python\n",
    "conda update python\n",
    "\n",
    "#from https://stackoverflow.com/questions/48706548/how-to-free-disk-space-taken-up-by-anaconda\n",
    "# Remove anaconda unused packages and caches.\n",
    "conda clean --all"
   ]
  },
  {
   "cell_type": "code",
   "execution_count": 3,
   "id": "cc1ddb5c",
   "metadata": {},
   "outputs": [],
   "source": []
  },
  {
   "cell_type": "code",
   "execution_count": null,
   "id": "70a52e5b",
   "metadata": {},
   "outputs": [],
   "source": []
  }
 ],
 "metadata": {
  "kernelspec": {
   "display_name": "Python 3.8.8 ('base')",
   "language": "python",
   "name": "python3"
  },
  "language_info": {
   "codemirror_mode": {
    "name": "ipython",
    "version": 3
   },
   "file_extension": ".py",
   "mimetype": "text/x-python",
   "name": "python",
   "nbconvert_exporter": "python",
   "pygments_lexer": "ipython3",
   "version": "3.8.8"
  },
  "vscode": {
   "interpreter": {
    "hash": "27c8121e2e9a873957049f1ec24d13aeed5282d43519d2a4b5ef910eaaa46b78"
   }
  }
 },
 "nbformat": 4,
 "nbformat_minor": 5
}
